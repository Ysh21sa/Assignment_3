{
  "cells": [
    {
      "cell_type": "markdown",
      "metadata": {
        "id": "O3MTU8_V6_LV"
      },
      "source": [
        "## Setup"
      ]
    },
    {
      "cell_type": "code",
      "execution_count": 2,
      "metadata": {
        "id": "QV_cDIlP6_LV"
      },
      "outputs": [],
      "source": [
        "import pathlib\n",
        "import random\n",
        "import string\n",
        "import re\n",
        "import numpy as np\n",
        "import tensorflow as tf\n",
        "from tensorflow import keras\n",
        "from tensorflow.keras import layers\n",
        "from tensorflow.keras.layers import TextVectorization"
      ]
    },
    {
      "cell_type": "markdown",
      "metadata": {
        "id": "US1dtUGC6_LY"
      },
      "source": [
        "## Downloading the data\n",
        "\n",
        "I used English-to-Spanish translation dataset\n",
        "provided by [Anki](https://www.manythings.org/anki/)."
      ]
    },
    {
      "cell_type": "code",
      "source": [
        "text_file = \"/content/hin.txt\""
      ],
      "metadata": {
        "id": "XPsaNxVR8OdI"
      },
      "execution_count": 3,
      "outputs": []
    },
    {
      "cell_type": "markdown",
      "metadata": {
        "id": "0QEDWkfe6_LZ"
      },
      "source": [
        "## Parsing the data\n",
        "\n"
      ]
    },
    {
      "cell_type": "code",
      "source": [
        "with open(text_file) as f:\n",
        "    lines = f.read().split(\"\\n\")[:-1]\n",
        "text_pairs = []"
      ],
      "metadata": {
        "id": "_7-r75UW8dOC"
      },
      "execution_count": 5,
      "outputs": []
    },
    {
      "cell_type": "code",
      "source": [
        "lines[0].split(\"\\t\")\n"
      ],
      "metadata": {
        "colab": {
          "base_uri": "https://localhost:8080/"
        },
        "id": "rm0Q4HXb8eL7",
        "outputId": "a54af186-ab5a-4617-9566-90bdecf3d9c5"
      },
      "execution_count": 11,
      "outputs": [
        {
          "output_type": "execute_result",
          "data": {
            "text/plain": [
              "['Wow!',\n",
              " 'वाह!',\n",
              " 'CC-BY 2.0 (France) Attribution: tatoeba.org #52027 (Zifre) & #6179147 (fastrizwaan)']"
            ]
          },
          "metadata": {},
          "execution_count": 11
        }
      ]
    },
    {
      "cell_type": "code",
      "execution_count": 12,
      "metadata": {
        "id": "dbK6D3jT6_LZ"
      },
      "outputs": [],
      "source": [
        "with open(text_file) as f:\n",
        "    lines = f.read().split(\"\\n\")[:-1]\n",
        "text_pairs = []\n",
        "for line in lines:\n",
        "    eng, spa,_= line.split(\"\\t\")\n",
        "    spa = \"[start] \" + spa + \" [end]\"\n",
        "    text_pairs.append((eng, spa))"
      ]
    },
    {
      "cell_type": "markdown",
      "metadata": {
        "id": "MiuHHk6T6_LZ"
      },
      "source": [
        "Here's what our sentence pairs look like:"
      ]
    },
    {
      "cell_type": "code",
      "execution_count": 13,
      "metadata": {
        "colab": {
          "base_uri": "https://localhost:8080/"
        },
        "id": "E1T49kvs6_LZ",
        "outputId": "73210a14-1e91-437c-b53f-d598a79f6b79"
      },
      "outputs": [
        {
          "output_type": "stream",
          "name": "stdout",
          "text": [
            "('Are you interested in flowers?', '[start] तुम्हें फूलों में दिलचस्पी है क्या? [end]')\n",
            "('They gathered in the gym.', '[start] वे सब जिमखाने में मिले। [end]')\n",
            "(\"I'm a good cook.\", '[start] मैं अच्छा बावर्ची हूँ। [end]')\n",
            "('Happy New Year!', '[start] नव वर्ष की शुभकामनाएं! [end]')\n",
            "('Why did you come here this morning?', '[start] तुम आज सुबह यहाँ क्यों आए? [end]')\n"
          ]
        }
      ],
      "source": [
        "for _ in range(5):\n",
        "    print(random.choice(text_pairs))"
      ]
    },
    {
      "cell_type": "markdown",
      "metadata": {
        "id": "rJznPYav6_La"
      },
      "source": [
        "Now, let's split the sentence pairs into a training set, a validation set,\n",
        "and a test set."
      ]
    },
    {
      "cell_type": "code",
      "execution_count": 14,
      "metadata": {
        "colab": {
          "base_uri": "https://localhost:8080/"
        },
        "id": "DDr9GVaX6_La",
        "outputId": "7a5a07cb-a29f-4264-95f7-2f4a9a00f442"
      },
      "outputs": [
        {
          "output_type": "stream",
          "name": "stdout",
          "text": [
            "2979 total pairs\n",
            "2087 training pairs\n",
            "446 validation pairs\n",
            "446 test pairs\n"
          ]
        }
      ],
      "source": [
        "random.shuffle(text_pairs)\n",
        "num_val_samples = int(0.15 * len(text_pairs))\n",
        "num_train_samples = len(text_pairs) - 2 * num_val_samples\n",
        "train_pairs = text_pairs[:num_train_samples]\n",
        "val_pairs = text_pairs[num_train_samples : num_train_samples + num_val_samples]\n",
        "test_pairs = text_pairs[num_train_samples + num_val_samples :]\n",
        "\n",
        "print(f\"{len(text_pairs)} total pairs\")\n",
        "print(f\"{len(train_pairs)} training pairs\")\n",
        "print(f\"{len(val_pairs)} validation pairs\")\n",
        "print(f\"{len(test_pairs)} test pairs\")"
      ]
    },
    {
      "cell_type": "markdown",
      "metadata": {
        "id": "YOahvvFR6_La"
      },
      "source": [
        "## Vectorizing the text data\n",
        "\n"
      ]
    },
    {
      "cell_type": "code",
      "execution_count": 15,
      "metadata": {
        "id": "54_zKg6p6_La"
      },
      "outputs": [],
      "source": [
        "strip_chars = string.punctuation + \"¿\"\n",
        "strip_chars = strip_chars.replace(\"[\", \"\")\n",
        "strip_chars = strip_chars.replace(\"]\", \"\")\n",
        "\n",
        "vocab_size = 15000\n",
        "sequence_length = 20\n",
        "batch_size = 64\n",
        "\n",
        "\n",
        "def custom_standardization(input_string):\n",
        "    lowercase = tf.strings.lower(input_string)\n",
        "    return tf.strings.regex_replace(lowercase, \"[%s]\" % re.escape(strip_chars), \"\")\n",
        "\n",
        "\n",
        "eng_vectorization = TextVectorization(\n",
        "    max_tokens=vocab_size,\n",
        "    output_mode=\"int\",\n",
        "    output_sequence_length=sequence_length,\n",
        ")\n",
        "spa_vectorization = TextVectorization(\n",
        "    max_tokens=vocab_size,\n",
        "    output_mode=\"int\",\n",
        "    output_sequence_length=sequence_length + 1,\n",
        "    standardize=custom_standardization,\n",
        ")\n",
        "train_eng_texts = [pair[0] for pair in train_pairs]\n",
        "train_spa_texts = [pair[1] for pair in train_pairs]\n",
        "eng_vectorization.adapt(train_eng_texts)\n",
        "spa_vectorization.adapt(train_spa_texts)"
      ]
    },
    {
      "cell_type": "markdown",
      "metadata": {
        "id": "ZunS-Jhs6_Lb"
      },
      "source": [
        "\n",
        "\n",
        "- `inputs` is a dictionary with the keys `encoder_inputs` and `decoder_inputs`.\n",
        "`encoder_inputs` is the vectorized source sentence and `decoder_inputs` is the target sentence \"so far\",\n",
        "that is to say, the words 0 to N used to predict word N+1 (and beyond) in the target sentence.\n",
        "- `target` is the target sentence offset by one step:\n",
        "it provides the next words in the target sentence -- what the model will try to predict."
      ]
    },
    {
      "cell_type": "code",
      "execution_count": 16,
      "metadata": {
        "id": "5NCWU0yw6_Lb"
      },
      "outputs": [],
      "source": [
        "\n",
        "def format_dataset(eng, spa):\n",
        "    eng = eng_vectorization(eng)\n",
        "    spa = spa_vectorization(spa)\n",
        "    return (\n",
        "        {\n",
        "            \"encoder_inputs\": eng,\n",
        "            \"decoder_inputs\": spa[:, :-1],\n",
        "        },\n",
        "        spa[:, 1:],\n",
        "    )\n",
        "\n",
        "\n",
        "def make_dataset(pairs):\n",
        "    eng_texts, spa_texts = zip(*pairs)\n",
        "    eng_texts = list(eng_texts)\n",
        "    spa_texts = list(spa_texts)\n",
        "    dataset = tf.data.Dataset.from_tensor_slices((eng_texts, spa_texts))\n",
        "    dataset = dataset.batch(batch_size)\n",
        "    dataset = dataset.map(format_dataset)\n",
        "    return dataset.shuffle(2048).prefetch(16).cache()\n",
        "\n",
        "\n",
        "train_ds = make_dataset(train_pairs)\n",
        "val_ds = make_dataset(val_pairs)"
      ]
    },
    {
      "cell_type": "markdown",
      "metadata": {
        "id": "4uofJC6n6_Lb"
      },
      "source": [
        " A quick look at the sequence shapes\n",
        "(we have batches of 64 pairs, and all sequences are 20 steps long):"
      ]
    },
    {
      "cell_type": "code",
      "execution_count": 17,
      "metadata": {
        "colab": {
          "base_uri": "https://localhost:8080/"
        },
        "id": "1G4ty3Ks6_Lb",
        "outputId": "0c569ac5-edbd-4112-b8d0-b034f2aa47e0"
      },
      "outputs": [
        {
          "output_type": "stream",
          "name": "stdout",
          "text": [
            "inputs[\"encoder_inputs\"].shape: (64, 20)\n",
            "inputs[\"decoder_inputs\"].shape: (64, 20)\n",
            "targets.shape: (64, 20)\n"
          ]
        }
      ],
      "source": [
        "for inputs, targets in train_ds.take(1):\n",
        "    print(f'inputs[\"encoder_inputs\"].shape: {inputs[\"encoder_inputs\"].shape}')\n",
        "    print(f'inputs[\"decoder_inputs\"].shape: {inputs[\"decoder_inputs\"].shape}')\n",
        "    print(f\"targets.shape: {targets.shape}\")"
      ]
    },
    {
      "cell_type": "markdown",
      "metadata": {
        "id": "x8D8qauu6_Lc"
      },
      "source": [
        "## Building the model\n",
        "\n"
      ]
    },
    {
      "cell_type": "code",
      "execution_count": 18,
      "metadata": {
        "id": "qSZJZRUu6_Lc"
      },
      "outputs": [],
      "source": [
        "\n",
        "class TransformerEncoder(layers.Layer):\n",
        "    def __init__(self, embed_dim, dense_dim, num_heads, **kwargs):\n",
        "        super().__init__(**kwargs)\n",
        "        self.embed_dim = embed_dim\n",
        "        self.dense_dim = dense_dim\n",
        "        self.num_heads = num_heads\n",
        "        self.attention = layers.MultiHeadAttention(\n",
        "            num_heads=num_heads, key_dim=embed_dim\n",
        "        )\n",
        "        self.dense_proj = keras.Sequential(\n",
        "            [\n",
        "                layers.Dense(dense_dim, activation=\"relu\"),\n",
        "                layers.Dense(embed_dim),\n",
        "            ]\n",
        "        )\n",
        "        self.layernorm_1 = layers.LayerNormalization()\n",
        "        self.layernorm_2 = layers.LayerNormalization()\n",
        "        self.supports_masking = True\n",
        "\n",
        "    def call(self, inputs, mask=None):\n",
        "        attention_output = self.attention(query=inputs, value=inputs, key=inputs)\n",
        "        proj_input = self.layernorm_1(inputs + attention_output)\n",
        "        proj_output = self.dense_proj(proj_input)\n",
        "        return self.layernorm_2(proj_input + proj_output)\n",
        "\n",
        "    def get_config(self):\n",
        "        config = super().get_config()\n",
        "        config.update(\n",
        "            {\n",
        "                \"embed_dim\": self.embed_dim,\n",
        "                \"dense_dim\": self.dense_dim,\n",
        "                \"num_heads\": self.num_heads,\n",
        "            }\n",
        "        )\n",
        "        return config\n",
        "\n",
        "\n",
        "class PositionalEmbedding(layers.Layer):\n",
        "    def __init__(self, sequence_length, vocab_size, embed_dim, **kwargs):\n",
        "        super().__init__(**kwargs)\n",
        "        self.token_embeddings = layers.Embedding(\n",
        "            input_dim=vocab_size, output_dim=embed_dim\n",
        "        )\n",
        "        self.position_embeddings = layers.Embedding(\n",
        "            input_dim=sequence_length, output_dim=embed_dim\n",
        "        )\n",
        "        self.sequence_length = sequence_length\n",
        "        self.vocab_size = vocab_size\n",
        "        self.embed_dim = embed_dim\n",
        "\n",
        "    def call(self, inputs):\n",
        "        length = tf.shape(inputs)[-1]\n",
        "        positions = tf.range(start=0, limit=length, delta=1)\n",
        "        embedded_tokens = self.token_embeddings(inputs)\n",
        "        embedded_positions = self.position_embeddings(positions)\n",
        "        return embedded_tokens + embedded_positions\n",
        "\n",
        "    def compute_mask(self, inputs, mask=None):\n",
        "        return tf.math.not_equal(inputs, 0)\n",
        "\n",
        "    def get_config(self):\n",
        "        config = super().get_config()\n",
        "        config.update(\n",
        "            {\n",
        "                \"sequence_length\": self.sequence_length,\n",
        "                \"vocab_size\": self.vocab_size,\n",
        "                \"embed_dim\": self.embed_dim,\n",
        "            }\n",
        "        )\n",
        "        return config\n",
        "\n",
        "\n",
        "class TransformerDecoder(layers.Layer):\n",
        "    def __init__(self, embed_dim, latent_dim, num_heads, **kwargs):\n",
        "        super().__init__(**kwargs)\n",
        "        self.embed_dim = embed_dim\n",
        "        self.latent_dim = latent_dim\n",
        "        self.num_heads = num_heads\n",
        "        self.attention_1 = layers.MultiHeadAttention(\n",
        "            num_heads=num_heads, key_dim=embed_dim\n",
        "        )\n",
        "        self.attention_2 = layers.MultiHeadAttention(\n",
        "            num_heads=num_heads, key_dim=embed_dim\n",
        "        )\n",
        "        self.dense_proj = keras.Sequential(\n",
        "            [\n",
        "                layers.Dense(latent_dim, activation=\"relu\"),\n",
        "                layers.Dense(embed_dim),\n",
        "            ]\n",
        "        )\n",
        "        self.layernorm_1 = layers.LayerNormalization()\n",
        "        self.layernorm_2 = layers.LayerNormalization()\n",
        "        self.layernorm_3 = layers.LayerNormalization()\n",
        "        self.add = layers.Add()  # instead of `+` to preserve mask\n",
        "        self.supports_masking = True\n",
        "\n",
        "    def call(self, inputs, encoder_outputs, mask=None):\n",
        "        attention_output_1 = self.attention_1(\n",
        "            query=inputs, value=inputs, key=inputs, use_causal_mask=True\n",
        "        )\n",
        "        out_1 = self.layernorm_1(self.add([inputs, attention_output_1]))\n",
        "\n",
        "        attention_output_2 = self.attention_2(\n",
        "            query=out_1,\n",
        "            value=encoder_outputs,\n",
        "            key=encoder_outputs,\n",
        "        )\n",
        "        out_2 = self.layernorm_2(self.add([out_1, attention_output_2]))\n",
        "\n",
        "        proj_output = self.dense_proj(out_2)\n",
        "        return self.layernorm_3(self.add([out_2, proj_output]))\n",
        "\n",
        "    def get_config(self):\n",
        "        config = super().get_config()\n",
        "        config.update(\n",
        "            {\n",
        "                \"embed_dim\": self.embed_dim,\n",
        "                \"latent_dim\": self.latent_dim,\n",
        "                \"num_heads\": self.num_heads,\n",
        "            }\n",
        "        )\n",
        "        return config\n"
      ]
    },
    {
      "cell_type": "code",
      "execution_count": 19,
      "metadata": {
        "id": "t3Z2EycJ6_Ld"
      },
      "outputs": [],
      "source": [
        "embed_dim = 256\n",
        "latent_dim = 2048\n",
        "num_heads = 8\n",
        "\n",
        "encoder_inputs = keras.Input(shape=(None,), dtype=\"int64\", name=\"encoder_inputs\")\n",
        "x = PositionalEmbedding(sequence_length, vocab_size, embed_dim)(encoder_inputs)\n",
        "encoder_outputs = TransformerEncoder(embed_dim, latent_dim, num_heads)(x)\n",
        "encoder = keras.Model(encoder_inputs, encoder_outputs)\n",
        "\n",
        "decoder_inputs = keras.Input(shape=(None,), dtype=\"int64\", name=\"decoder_inputs\")\n",
        "encoded_seq_inputs = keras.Input(shape=(None, embed_dim), name=\"decoder_state_inputs\")\n",
        "x = PositionalEmbedding(sequence_length, vocab_size, embed_dim)(decoder_inputs)\n",
        "x = TransformerDecoder(embed_dim, latent_dim, num_heads)(x, encoded_seq_inputs)\n",
        "x = layers.Dropout(0.5)(x)\n",
        "decoder_outputs = layers.Dense(vocab_size, activation=\"softmax\")(x)\n",
        "decoder = keras.Model([decoder_inputs, encoded_seq_inputs], decoder_outputs)\n",
        "\n",
        "decoder_outputs = decoder([decoder_inputs, encoder_outputs])\n",
        "transformer = keras.Model(\n",
        "    [encoder_inputs, decoder_inputs], decoder_outputs, name=\"transformer\"\n",
        ")"
      ]
    },
    {
      "cell_type": "markdown",
      "metadata": {
        "id": "-Nkv-32H6_Ld"
      },
      "source": [
        "## Training our model\n",
        "\n",
        "I used accuracy as a quick way to monitor training progress on the validation data."
      ]
    },
    {
      "cell_type": "code",
      "execution_count": 24,
      "metadata": {
        "colab": {
          "base_uri": "https://localhost:8080/"
        },
        "id": "DiztXhOl6_Ld",
        "outputId": "17dd8773-8bb0-4a5b-990e-379c6bb4dc17"
      },
      "outputs": [
        {
          "output_type": "stream",
          "name": "stdout",
          "text": [
            "Model: \"transformer\"\n",
            "__________________________________________________________________________________________________\n",
            " Layer (type)                Output Shape                 Param #   Connected to                  \n",
            "==================================================================================================\n",
            " encoder_inputs (InputLayer  [(None, None)]               0         []                            \n",
            " )                                                                                                \n",
            "                                                                                                  \n",
            " positional_embedding (Posi  (None, None, 256)            3845120   ['encoder_inputs[0][0]']      \n",
            " tionalEmbedding)                                                                                 \n",
            "                                                                                                  \n",
            " decoder_inputs (InputLayer  [(None, None)]               0         []                            \n",
            " )                                                                                                \n",
            "                                                                                                  \n",
            " transformer_encoder (Trans  (None, None, 256)            3155456   ['positional_embedding[0][0]']\n",
            " formerEncoder)                                                                                   \n",
            "                                                                                                  \n",
            " model_1 (Functional)        (None, None, 15000)          1295964   ['decoder_inputs[0][0]',      \n",
            "                                                          0          'transformer_encoder[0][0]'] \n",
            "                                                                                                  \n",
            "==================================================================================================\n",
            "Total params: 19960216 (76.14 MB)\n",
            "Trainable params: 19960216 (76.14 MB)\n",
            "Non-trainable params: 0 (0.00 Byte)\n",
            "__________________________________________________________________________________________________\n",
            "Epoch 1/30\n",
            "33/33 [==============================] - 16s 239ms/step - loss: 5.2774 - accuracy: 0.2536 - val_loss: 5.0116 - val_accuracy: 0.2734\n",
            "Epoch 2/30\n",
            "33/33 [==============================] - 2s 72ms/step - loss: 4.8125 - accuracy: 0.2883 - val_loss: 4.7913 - val_accuracy: 0.3102\n",
            "Epoch 3/30\n",
            "33/33 [==============================] - 2s 66ms/step - loss: 4.4838 - accuracy: 0.3202 - val_loss: 4.6157 - val_accuracy: 0.3087\n",
            "Epoch 4/30\n",
            "33/33 [==============================] - 2s 66ms/step - loss: 4.1438 - accuracy: 0.3582 - val_loss: 4.5034 - val_accuracy: 0.3283\n",
            "Epoch 5/30\n",
            "33/33 [==============================] - 2s 66ms/step - loss: 3.8697 - accuracy: 0.3839 - val_loss: 4.3854 - val_accuracy: 0.3529\n",
            "Epoch 6/30\n",
            "33/33 [==============================] - 2s 66ms/step - loss: 3.5468 - accuracy: 0.4213 - val_loss: 4.2849 - val_accuracy: 0.3450\n",
            "Epoch 7/30\n",
            "33/33 [==============================] - 2s 67ms/step - loss: 3.2912 - accuracy: 0.4471 - val_loss: 4.1878 - val_accuracy: 0.3663\n",
            "Epoch 8/30\n",
            "33/33 [==============================] - 2s 70ms/step - loss: 3.0496 - accuracy: 0.4780 - val_loss: 4.0806 - val_accuracy: 0.3775\n",
            "Epoch 9/30\n",
            "33/33 [==============================] - 2s 68ms/step - loss: 2.8055 - accuracy: 0.5072 - val_loss: 4.0720 - val_accuracy: 0.3892\n",
            "Epoch 10/30\n",
            "33/33 [==============================] - 2s 67ms/step - loss: 2.5750 - accuracy: 0.5368 - val_loss: 4.0112 - val_accuracy: 0.3971\n",
            "Epoch 11/30\n",
            "33/33 [==============================] - 2s 68ms/step - loss: 2.3402 - accuracy: 0.5683 - val_loss: 3.9507 - val_accuracy: 0.4049\n",
            "Epoch 12/30\n",
            "33/33 [==============================] - 2s 70ms/step - loss: 2.1376 - accuracy: 0.5966 - val_loss: 3.9564 - val_accuracy: 0.4113\n",
            "Epoch 13/30\n",
            "33/33 [==============================] - 2s 71ms/step - loss: 1.9151 - accuracy: 0.6366 - val_loss: 3.8628 - val_accuracy: 0.4280\n",
            "Epoch 14/30\n",
            "33/33 [==============================] - 2s 69ms/step - loss: 1.7018 - accuracy: 0.6769 - val_loss: 3.9162 - val_accuracy: 0.4229\n",
            "Epoch 15/30\n",
            "33/33 [==============================] - 2s 68ms/step - loss: 1.5150 - accuracy: 0.7018 - val_loss: 3.9104 - val_accuracy: 0.4278\n",
            "Epoch 16/30\n",
            "33/33 [==============================] - 2s 70ms/step - loss: 1.3438 - accuracy: 0.7365 - val_loss: 3.9479 - val_accuracy: 0.4349\n",
            "Epoch 17/30\n",
            "33/33 [==============================] - 2s 68ms/step - loss: 1.1554 - accuracy: 0.7728 - val_loss: 3.8999 - val_accuracy: 0.4369\n",
            "Epoch 18/30\n",
            "33/33 [==============================] - 2s 71ms/step - loss: 1.0221 - accuracy: 0.7963 - val_loss: 4.0031 - val_accuracy: 0.4323\n",
            "Epoch 19/30\n",
            "33/33 [==============================] - 2s 70ms/step - loss: 0.8614 - accuracy: 0.8284 - val_loss: 3.9480 - val_accuracy: 0.4455\n",
            "Epoch 20/30\n",
            "33/33 [==============================] - 2s 68ms/step - loss: 0.7425 - accuracy: 0.8561 - val_loss: 4.1027 - val_accuracy: 0.4384\n",
            "Epoch 21/30\n",
            "33/33 [==============================] - 2s 69ms/step - loss: 0.6298 - accuracy: 0.8757 - val_loss: 4.0149 - val_accuracy: 0.4481\n",
            "Epoch 22/30\n",
            "33/33 [==============================] - 2s 68ms/step - loss: 0.5193 - accuracy: 0.9055 - val_loss: 4.0270 - val_accuracy: 0.4499\n",
            "Epoch 23/30\n",
            "33/33 [==============================] - 2s 69ms/step - loss: 0.4338 - accuracy: 0.9229 - val_loss: 4.1263 - val_accuracy: 0.4491\n",
            "Epoch 24/30\n",
            "33/33 [==============================] - 2s 70ms/step - loss: 0.3690 - accuracy: 0.9386 - val_loss: 4.1521 - val_accuracy: 0.4511\n",
            "Epoch 25/30\n",
            "33/33 [==============================] - 2s 68ms/step - loss: 0.3081 - accuracy: 0.9495 - val_loss: 4.1425 - val_accuracy: 0.4598\n",
            "Epoch 26/30\n",
            "33/33 [==============================] - 2s 68ms/step - loss: 0.2555 - accuracy: 0.9625 - val_loss: 4.1822 - val_accuracy: 0.4560\n",
            "Epoch 27/30\n",
            "33/33 [==============================] - 2s 69ms/step - loss: 0.2129 - accuracy: 0.9684 - val_loss: 4.2791 - val_accuracy: 0.4537\n",
            "Epoch 28/30\n",
            "33/33 [==============================] - 2s 68ms/step - loss: 1.4550 - accuracy: 0.8113 - val_loss: 4.2367 - val_accuracy: 0.4593\n",
            "Epoch 29/30\n",
            "33/33 [==============================] - 2s 70ms/step - loss: 0.1820 - accuracy: 0.9730 - val_loss: 4.2665 - val_accuracy: 0.4620\n",
            "Epoch 30/30\n",
            "33/33 [==============================] - 2s 67ms/step - loss: 0.2554 - accuracy: 0.9550 - val_loss: 4.3076 - val_accuracy: 0.4577\n"
          ]
        },
        {
          "output_type": "execute_result",
          "data": {
            "text/plain": [
              "<keras.src.callbacks.History at 0x7a7e993510f0>"
            ]
          },
          "metadata": {},
          "execution_count": 24
        }
      ],
      "source": [
        "epochs = 30\n",
        "\n",
        "transformer.summary()\n",
        "transformer.compile(\n",
        "    \"rmsprop\", loss=\"sparse_categorical_crossentropy\", metrics=[\"accuracy\"]\n",
        ")\n",
        "transformer.fit(train_ds, epochs=epochs, validation_data=val_ds)"
      ]
    },
    {
      "cell_type": "markdown",
      "metadata": {
        "id": "shssrcbG6_Ld"
      },
      "source": [
        "## Decoding test sentences\n",
        "\n"
      ]
    },
    {
      "cell_type": "code",
      "execution_count": 25,
      "metadata": {
        "id": "tkCZjYg06_Ld"
      },
      "outputs": [],
      "source": [
        "spa_vocab = spa_vectorization.get_vocabulary()\n",
        "spa_index_lookup = dict(zip(range(len(spa_vocab)), spa_vocab))\n",
        "max_decoded_sentence_length = 20\n",
        "\n",
        "\n",
        "def decode_sequence(input_sentence):\n",
        "    tokenized_input_sentence = eng_vectorization([input_sentence])\n",
        "    decoded_sentence = \"[start]\"\n",
        "    for i in range(max_decoded_sentence_length):\n",
        "        tokenized_target_sentence = spa_vectorization([decoded_sentence])[:, :-1]\n",
        "        predictions = transformer([tokenized_input_sentence, tokenized_target_sentence])\n",
        "\n",
        "        sampled_token_index = np.argmax(predictions[0, i, :])\n",
        "        sampled_token = spa_index_lookup[sampled_token_index]\n",
        "        decoded_sentence += \" \" + sampled_token\n",
        "\n",
        "        if sampled_token == \"[end]\":\n",
        "            break\n",
        "    return decoded_sentence\n",
        "\n",
        "\n",
        "test_eng_texts = [pair[0] for pair in test_pairs]\n",
        "for _ in range(30):\n",
        "    input_sentence = random.choice(test_eng_texts)\n",
        "    translated = decode_sequence(input_sentence)"
      ]
    },
    {
      "cell_type": "code",
      "source": [
        "for _ in range(30):\n",
        "    input_sentence = random.choice(test_eng_texts)\n",
        "    translated = decode_sequence(input_sentence)"
      ],
      "metadata": {
        "id": "Yc9mQ5WF_Gf7"
      },
      "execution_count": 26,
      "outputs": []
    },
    {
      "cell_type": "code",
      "source": [
        "print(input_sentence,translated)"
      ],
      "metadata": {
        "colab": {
          "base_uri": "https://localhost:8080/"
        },
        "id": "sZtFSFpF_VaA",
        "outputId": "486f39bc-699c-44fc-8315-8d533dec55b1"
      },
      "execution_count": 27,
      "outputs": [
        {
          "output_type": "stream",
          "name": "stdout",
          "text": [
            "Summer is the season I like best. [start] मुझे पता है कि वह अच्छा लगता है। [end]\n"
          ]
        }
      ]
    },
    {
      "cell_type": "code",
      "source": [
        "statement = [\"Definitely share your feedback in the comment section.\",\n",
        "              \"So even if it's a big video, I will clearly mention all the products.\",\n",
        "                 \"I was waiting for my bag.\" ]"
      ],
      "metadata": {
        "id": "3rFdVOCaBw_l"
      },
      "execution_count": 29,
      "outputs": []
    },
    {
      "cell_type": "code",
      "source": [
        "for i in statement:\n",
        "  print(i,\"\\n\",decode_sequence(i))"
      ],
      "metadata": {
        "colab": {
          "base_uri": "https://localhost:8080/"
        },
        "id": "TqhKHyGyCZVK",
        "outputId": "ce68ecdc-8b93-46b8-cbb8-14ec956f12a8"
      },
      "execution_count": 30,
      "outputs": [
        {
          "output_type": "stream",
          "name": "stdout",
          "text": [
            "Definitely share your feedback in the comment section. \n",
            " [start] उन अपने दोस्तों से स्नातक कर लिया। [end]\n",
            "So even if it's a big video, I will clearly mention all the products. \n",
            " [start] मुझे दुख होता है कि मैं उन लोगों की सोचता है। [end]\n",
            "I was waiting for my bag. \n",
            " [start] मेरा बस्ता चोरी हो गया था। [end]\n"
          ]
        }
      ]
    }
  ],
  "metadata": {
    "accelerator": "GPU",
    "colab": {
      "name": "neural_machine_translation_with_transformer",
      "provenance": []
    },
    "kernelspec": {
      "display_name": "Python 3",
      "language": "python",
      "name": "python3"
    },
    "language_info": {
      "codemirror_mode": {
        "name": "ipython",
        "version": 3
      },
      "file_extension": ".py",
      "mimetype": "text/x-python",
      "name": "python",
      "nbconvert_exporter": "python",
      "pygments_lexer": "ipython3",
      "version": "3.7.0"
    }
  },
  "nbformat": 4,
  "nbformat_minor": 0
}